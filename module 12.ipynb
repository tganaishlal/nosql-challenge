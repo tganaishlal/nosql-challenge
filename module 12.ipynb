{
 "cells": [
  {
   "cell_type": "code",
   "execution_count": null,
   "id": "a3232e64",
   "metadata": {},
   "outputs": [],
   "source": [
    "# create dependencies\n",
    "from pymongo import MongoClient\n",
    "from pprint import pprint"
   ]
  },
  {
   "cell_type": "code",
   "execution_count": null,
   "id": "569dc1a4",
   "metadata": {},
   "outputs": [],
   "source": [
    "# MongoClient\n",
    "mongo = MongoClient(port = 27017)"
   ]
  },
  {
   "cell_type": "code",
   "execution_count": null,
   "id": "92623dfb",
   "metadata": {},
   "outputs": [],
   "source": [
    "# assign the uk_food database to a variable name\n",
    "db = mongo['uk_food']"
   ]
  },
  {
   "cell_type": "code",
   "execution_count": null,
   "id": "8f7f7f50",
   "metadata": {},
   "outputs": [],
   "source": [
    "# find_one()\n",
    "pprint(db.establishments.find_one())"
   ]
  },
  {
   "cell_type": "code",
   "execution_count": null,
   "id": "21b7389e",
   "metadata": {},
   "outputs": [],
   "source": [
    "# assign variable\n",
    "establishments= db['establishments']"
   ]
  },
  {
   "cell_type": "code",
   "execution_count": null,
   "id": "ad95610e",
   "metadata": {},
   "outputs": [],
   "source": [
    "# updating the database\n",
    "# Create a dictionary for the new restaurant data\n",
    "new_restaurant = {\n",
    "    \"BusinessName\":\"Penang Flavours\",\n",
    "    \"BusinessType\":\"Restaurant/Cafe/Canteen\",\n",
    "    \"BusinessTypeID\":\"\",\n",
    "    \"AddressLine1\":\"Penang Flavours\",\n",
    "    \"AddressLine2\":\"146A Plumstead Rd\",\n",
    "    \"AddressLine3\":\"London\",\n",
    "    \"AddressLine4\":\"\",\n",
    "    \"PostCode\":\"SE18 7DY\",\n",
    "    \"Phone\":\"\",\n",
    "    \"LocalAuthorityCode\":\"511\",\n",
    "    \"LocalAuthorityName\":\"Greenwich\",\n",
    "    \"LocalAuthorityWebSite\":\"http://www.royalgreenwich.gov.uk\",\n",
    "    \"LocalAuthorityEmailAddress\":\"health@royalgreenwich.gov.uk\",\n",
    "    \"scores\":{\n",
    "        \"Hygiene\":\"\",\n",
    "        \"Structural\":\"\",\n",
    "        \"ConfidenceInManagement\":\"\"\n",
    "    },\n",
    "    \"SchemeType\":\"FHRS\",\n",
    "    \"geocode\":{\n",
    "        \"longitude\":\"0.08384000\",\n",
    "        \"latitude\":\"51.49014200\"\n",
    "    },\n",
    "    \"RightToReply\":\"\",\n",
    "    \"Distance\":4623.9723280747176,\n",
    "    \"NewRatingPending\":True\n",
    "}"
   ]
  },
  {
   "cell_type": "code",
   "execution_count": null,
   "id": "1027a6b0",
   "metadata": {},
   "outputs": [],
   "source": [
    "# Insert the new restaurant \n",
    "establishments.insert_one(new_restaurant)"
   ]
  },
  {
   "cell_type": "code",
   "execution_count": null,
   "id": "acffbfb3",
   "metadata": {},
   "outputs": [],
   "source": [
    "# Check that the new restaurant was inserted\n",
    "pprint(establishments.find_one({\"BusinessName\": \"Penang Flavours\"}))"
   ]
  },
  {
   "cell_type": "code",
   "execution_count": null,
   "id": "f415a38c",
   "metadata": {},
   "outputs": [],
   "source": [
    "# Find the BusinessTypeID for \"Restaurant/Cafe/Canteen\" \n",
    "query = {\"BusinessType\":\"Restaurant/Cafe/Canteen\"}\n",
    "\n",
    "fields = {\n",
    "    \"BusinessTypeID\": 1,\n",
    "    \"BusinessType\":1\n",
    "}\n",
    "\n",
    "\n",
    "pprint(establishments.find_one(query,fields))"
   ]
  },
  {
   "cell_type": "code",
   "execution_count": null,
   "id": "e87bb4bd",
   "metadata": {},
   "outputs": [],
   "source": [
    "# Update the new restaurant \n",
    "establishments.update_one(\n",
    "    {\"BusinessName\": \"Penang Flavours\"},\n",
    "    {\n",
    "        \"$set\":\n",
    "            {\"BusinessTypeID\":1}\n",
    "    }\n",
    ")"
   ]
  },
  {
   "cell_type": "code",
   "execution_count": null,
   "id": "759cf74d",
   "metadata": {},
   "outputs": [],
   "source": [
    "# Confirm that the new restaurant was updated\n",
    "pprint(establishments.find_one({\"BusinessName\": \"Penang Flavours\"}))"
   ]
  },
  {
   "cell_type": "code",
   "execution_count": null,
   "id": "cb190140",
   "metadata": {},
   "outputs": [],
   "source": [
    "# Find how many documents have LocalAuthorityName as \n",
    "doverDocs = establishments.count_documents({'LocalAuthorityName': 'Dover'})\n",
    "doverDocs"
   ]
  },
  {
   "cell_type": "code",
   "execution_count": null,
   "id": "45f49879",
   "metadata": {},
   "outputs": [],
   "source": [
    "# Delete dover\n",
    "establishments.delete_many({'LocalAuthorityName': 'Dover'})"
   ]
  },
  {
   "cell_type": "code",
   "execution_count": null,
   "id": "dfc21900",
   "metadata": {},
   "outputs": [],
   "source": [
    "# Check t'find one'\n",
    "pprint(establishments.find_one())"
   ]
  },
  {
   "cell_type": "code",
   "execution_count": null,
   "id": "eb341271",
   "metadata": {},
   "outputs": [],
   "source": [
    "# Change the data type from String to decimal\n",
    "establishments.update_many(\n",
    "    {},\n",
    "    [\n",
    "        {\n",
    "            '$set':\n",
    "            {\n",
    "                'geocode.latitude':{'$toDouble': '$geocode.latitude'},\n",
    "                'geocode.longitude': {'$toDouble': '$geocode.longitude'}\n",
    "            }\n",
    "        }\n",
    "    ]\n",
    ")"
   ]
  },
  {
   "cell_type": "code",
   "execution_count": null,
   "id": "57decd0e",
   "metadata": {},
   "outputs": [],
   "source": [
    "# part three exploratory analysis, create the dependiences\n",
    "\n",
    "from pymongo import MongoClient\n",
    "from pprint import pprint\n",
    "import pandas as pd"
   ]
  },
  {
   "cell_type": "code",
   "execution_count": null,
   "id": "e4401bea",
   "metadata": {},
   "outputs": [],
   "source": [
    "# Create an instance of MongoClient\n",
    "mongo = MongoClient(port=27017)"
   ]
  },
  {
   "cell_type": "code",
   "execution_count": null,
   "id": "0563cba6",
   "metadata": {},
   "outputs": [],
   "source": [
    "# review the collections in our database\n",
    "print(db.list_collection_names())"
   ]
  },
  {
   "cell_type": "code",
   "execution_count": null,
   "id": "b8400c57",
   "metadata": {},
   "outputs": [],
   "source": [
    "# assign the collection to a variable\n",
    "establishments = db['establishments']"
   ]
  },
  {
   "cell_type": "code",
   "execution_count": null,
   "id": "3a7d7fd3",
   "metadata": {},
   "outputs": [],
   "source": [
    "# Find the establishments with a hygiene score of 20\n",
    "query = {'scores.Hygiene': 20}\n",
    "\n",
    "# Use count_documents to display the number of documents in the result\n",
    "print(f\" Number of documents in result: {establishments.count_documents(query)}\")\n",
    "\n",
    "# Display the first document in the results using pprint\n",
    "results = establishments.find(query)\n",
    "\n",
    "print('\\n First Result:')\n",
    "pprint(results[0])"
   ]
  },
  {
   "cell_type": "code",
   "execution_count": null,
   "id": "03752d03",
   "metadata": {},
   "outputs": [],
   "source": [
    "# Convert the result to a Pandas DataFrame\n",
    "query = {'scores.Hygiene': 20}\n",
    "results = establishments.find(query)\n",
    "\n",
    "hygiene20DF = pd.DataFrame(results) \n",
    "\n",
    "# Display the number of rows in the DataFrame\n",
    "print(f\"Rows in DataFrame: {len(hygiene20DF)}\")\n",
    "\n",
    "# Display the first 10 rows of the DataFrame\n",
    "hygiene20DF.head(10)"
   ]
  },
  {
   "cell_type": "code",
   "execution_count": null,
   "id": "97adad2a",
   "metadata": {},
   "outputs": [],
   "source": [
    "# Find the establishments with London as the Local Authority which range from 1 to 4\n",
    "query = {'LocalAuthorityName': {'$regex': 'London'}, 'RatingValue': {'$gte': '4' }}\n",
    "\n",
    "# Use count_documents to display the number of documents in the result\n",
    "print(f\" Number of documents in result: {establishments.count_documents(query)}\")\n",
    "\n",
    "# Display the first document in the results using pprint\n",
    "results = establishments.find(query)\n",
    "\n",
    "print('\\n First Result:')\n",
    "pprint(results[0])"
   ]
  },
  {
   "cell_type": "code",
   "execution_count": null,
   "id": "3d2dc6ef",
   "metadata": {},
   "outputs": [],
   "source": [
    "# Convert the result to a Pandas DataFrame\n",
    "query = {'LocalAuthorityName': {'$regex': 'London'}, 'RatingValue': {'$gte': '4' }}\n",
    "results = establishments.find(query)\n",
    "londonHighRatingsDF = pd.DataFrame(results)\n",
    "\n",
    "# Display the number of rows in the DataFrame\n",
    "print(f\"Rows in DataFrame: {len(londonHighRatingsDF)}\")\n",
    "\n",
    "# Display the first 10 rows of the DataFrame\n",
    "londonHighRatingsDF.head(10)"
   ]
  },
  {
   "cell_type": "code",
   "execution_count": null,
   "id": "b758e613",
   "metadata": {},
   "outputs": [],
   "source": [
    "# Search within 0.01 degree latitude and longitude.\n",
    "# Rating value must equal 5\n",
    "# Sort by hygiene score\n",
    "\n",
    "degree_search = 0.01\n",
    "latitude = 51.49014200\n",
    "longitude = 0.08384000\n",
    "\n",
    "query = {\n",
    "    'RatingValue': '5',\n",
    "    'geocode.latitude':{\n",
    "        '$gte': latitude-degree_search,\n",
    "        '$lte': latitude+degree_search\n",
    "    },\n",
    "    'geocode.longitude': {\n",
    "        '$gte': longitude-degree_search,\n",
    "        '$lte': longitude+degree_search\n",
    "    }\n",
    "}\n",
    "sort = [('score.Hygiene',1)] #ascending order\n",
    "limit = 5\n",
    "\n",
    "# Print the results\n",
    "pprint(list(establishments.find(query).sort(sort). limit(limit)))"
   ]
  },
  {
   "cell_type": "code",
   "execution_count": null,
   "id": "6640c3ad",
   "metadata": {},
   "outputs": [],
   "source": [
    "# Convert result to Pandas DataFrame\n",
    "results = establishments.find(query).sort(sort). limit(limit)\n",
    "restaurantNearPenangDF = pd.DataFrame(results)\n",
    "restaurantNearPenangDF"
   ]
  },
  {
   "cell_type": "code",
   "execution_count": null,
   "id": "62e82899",
   "metadata": {},
   "outputs": [],
   "source": [
    "# establishements with score of zero\n",
    "# 1. Matches establishments with a hygiene score of 0\n",
    "# 2. Groups the matches by Local Authority\n",
    "# 3. Sorts the matches from highest to lowest\n",
    "pipeline = [\n",
    "    {'$match': {'scores.Hygiene':0}},\n",
    "    {\n",
    "        '$group':\n",
    "        {\n",
    "            '_id': '$LocalAuthorityName', 'count': {'$sum': 1}\n",
    "        }\n",
    "    },\n",
    "    {'$sort': {'count': -1}}\n",
    "] \n",
    "\n",
    "results = list(establishments.aggregate(pipeline))\n",
    "\n",
    "# Print the number of documents in the result\n",
    "print(f\" Number of documents in result: {len(results)}\")\n",
    "\n",
    "# Print the first 10 \n",
    "pprint(results[0:10])"
   ]
  },
  {
   "cell_type": "code",
   "execution_count": null,
   "id": "539be95b",
   "metadata": {},
   "outputs": [],
   "source": [
    "# Convert to pandas dataframe\n",
    "resultsDF = pd.DataFrame(results)\n",
    "\n",
    "# Display the number of rows in the DataFrame\n",
    "print(f\"Number of rows in DataFrame {len(resultsDF)}\")\n",
    "\n",
    "# Display the first 10 \n",
    "resultsDF = resultsDF.rename(columns= {'_id': \"Local Authority\"})\n",
    "\n",
    "resultsDF.head(10)"
   ]
  }
 ],
 "metadata": {
  "kernelspec": {
   "display_name": "Python 3 (ipykernel)",
   "language": "python",
   "name": "python3"
  },
  "language_info": {
   "codemirror_mode": {
    "name": "ipython",
    "version": 3
   },
   "file_extension": ".py",
   "mimetype": "text/x-python",
   "name": "python",
   "nbconvert_exporter": "python",
   "pygments_lexer": "ipython3",
   "version": "3.9.13"
  }
 },
 "nbformat": 4,
 "nbformat_minor": 5
}
